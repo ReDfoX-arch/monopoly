{
 "cells": [
  {
   "cell_type": "markdown",
   "metadata": {},
   "source": [
    "## Monopoly estimated wins with Montecarlo\n",
    "We want to analyze the probability of winning in Monopoly, a board game where players roll two dice and move around a board, buying and trading properties, and developing them with houses and hotels. The game ends when only one player remains, and the winner is the player with the most money and properties."
   ]
  },
  {
   "cell_type": "markdown",
   "metadata": {},
   "source": [
    "# Overview of Monopoly (Standard Edition)\n",
    "\n",
    "## Game Components\n",
    "- **Board**:\n",
    "  - 40 spaces:\n",
    "    - 22 properties (grouped by colors, 2-3 per group).\n",
    "    - 4 railroads.\n",
    "    - 2 utilities (Electric Company, Water Works).\n",
    "    - 6 special spaces: *Chance* (3), *Community Chest* (3).\n",
    "    - 2 tax spaces (*Luxury Tax*, *Income Tax*).\n",
    "    - Start, Jail, *Go to Jail*, and Free Parking.\n",
    "\n",
    "- **Cards**:\n",
    "  - 16 *Chance* cards.\n",
    "  - 16 *Community Chest* cards.\n",
    "  - Title deeds for all properties.\n",
    "\n",
    "- **Money**:\n",
    "  - Total of $20,580 in various denominations ($1 to $500).  \n",
    "    - 1 $: 30\n",
    "    - 5 $: 30\n",
    "    - 10 $: 30\n",
    "    - 20 $: 30\n",
    "    - 50 $: 30\n",
    "    - 100 $: 30\n",
    "    - 500 $: 30\n",
    "   \n",
    "- **Tokens**:\n",
    "  - Up to 8 player tokens.\n",
    "\n",
    "- **Buildings**:\n",
    "  - 32 houses, 12 hotels.\n",
    "  - We will consider to have an ininite amount of houses and hotels\n",
    "\n",
    "---\n",
    "\n",
    "## Key Rules\n",
    "- **Turn Mechanics**:\n",
    "  - Roll two six-sided dice; move forward the sum of the dice.\n",
    "  - Rolling doubles grants an extra turn; rolling doubles 3 times sends the player to Jail.\n",
    "  - Perform actions based on the space landed on.\n",
    "\n",
    "- **Special Spaces**:\n",
    "  - *Go*: Collect $200 when passing.\n",
    "  - *Jail*: Stay up to 3 turns unless paying $50 or using a “Get Out of Jail Free” card.\n",
    "  - *Go to Jail*: Move directly to Jail.\n",
    "  - *Free Parking*: No action.\n",
    "  - We will consider *Go to Jail* a normal location, because it doesn't effect the game in long terms\n",
    "\n",
    "- **Properties**:\n",
    "  - Buy unowned properties; pay rent if owned.\n",
    "  - Rent increases with buildings (houses/hotels).\n",
    "  - Must own all properties of a color group to build.\n",
    "\n",
    "- **Cards**:\n",
    "  - *Chance* and *Community Chest* cards can move players, alter funds, or send to Jail.\n",
    "  - *Move directly to START* card doesn't work. It's basically uninfluential on the results\n",
    "\n",
    "- **Objective**:\n",
    "  - Bankrupt all opponents.\n",
    "\n",
    "---\n",
    "\n",
    "## Monte Carlo Simulation\n",
    "- **Simulation Focus**:\n",
    "  - Landing probabilities for each space.\n",
    "  - Cost-benefit analysis of properties.\n",
    "  - Construction efficiency (houses/hotels).\n",
    "  - Return on Investment (ROI) by property group.\n",
    "\n",
    "- **Key Parameters**:\n",
    "  - Visit probabilities, state transitions, and profitability.\n",
    "\n",
    "- **Example Iteration**:\n",
    "  - Simulate N games.\n",
    "  - Record movements, earnings, and losses.\n",
    "  - Analyze visit frequencies and profitability distribution.\n"
   ]
  },
  {
   "cell_type": "code",
   "execution_count": null,
   "metadata": {},
   "outputs": [],
   "source": [
    "# LIBRARIES\n",
    "import numpy as np\n",
    "import matplotlib.pyplot as plt\n",
    "from prop_and_loc import locations, properties, prop_list, loc_list, dict_by_color\n",
    "from istances import run_game, random_dist, color_dist\n",
    "\n",
    "%load_ext autoreload\n",
    "%autoreload 2\n"
   ]
  },
  {
   "cell_type": "markdown",
   "metadata": {},
   "source": [
    "## Results of the single game experiment\n",
    "These are the final results for the single experiment, each new iteration of the algorithm is different, as we expect it to be, like a real game. These results on their own are not considered relevant for the statistical analysis, we will anlyse that in the next section by using *Monte Carlo simulations*.\n",
    "\n",
    "At the moment these result should only be useful for a general check onto the algorithm and onto the results of the single simulation.\n",
    "\n",
    "A few different algorithms have been chosen to make the decision whether or not to buy a property:\n",
    "the choice on the method is crucial for the outcomes of the experiment.\n",
    "Let's analyse them:\n",
    "1) Uniform distributed ROI\n",
    "2) Color based choice (house building goal)\n",
    "3) Complex choice function"
   ]
  },
  {
   "cell_type": "markdown",
   "metadata": {},
   "source": [
    "### **1) Uniform distributed ROI**:\n",
    "First we want to choose a random function that decides if the player will or will not buy a specific prop.  \n",
    "  \n",
    "The method will provide a Random uniform generated value between (0,1), then, with a simple treshold, that could be, eventually, modified, we will decide whether or not to buy the specific prop.  \n",
    "  \n",
    "The treshold is initially set on 0.5"
   ]
  },
  {
   "cell_type": "markdown",
   "metadata": {},
   "source": [
    "Simply by running the program for a few seconds we can have some infos about the actual flow of this method and its problems.  \n",
    "Basically, the game will never end and wil stop because the limit of cash will be reached.    \n",
    "\n",
    "This results explains the outcomes of the average Monopoly game played in family, without much strategy.  \n",
    "The players can't make up a strong attack on their opponents and will rely\n",
    " on the safe incomes of some properties ownership. The players won't be able to build houses most of the time and they will accumulate money on their personal balance.  \n",
    "Eventually the bank will run out of cash (we set 20,580 $ as max, based on a standard Monopoly edition) and the game will end. The winner will be the richest player."
   ]
  },
  {
   "cell_type": "code",
   "execution_count": null,
   "metadata": {},
   "outputs": [],
   "source": [
    "report_to_file = True       "
   ]
  },
  {
   "cell_type": "code",
   "execution_count": null,
   "metadata": {},
   "outputs": [],
   "source": [
    "random_ROI = run_game(4, \"random\", report_to_file)"
   ]
  },
  {
   "cell_type": "markdown",
   "metadata": {},
   "source": [
    "### **2) Color based choice**"
   ]
  },
  {
   "cell_type": "code",
   "execution_count": null,
   "metadata": {},
   "outputs": [],
   "source": [
    "color_ROI = run_game(4, \"color\", report_to_file)"
   ]
  },
  {
   "cell_type": "markdown",
   "metadata": {},
   "source": [
    "### **3) Complex choice function**\n",
    "\n"
   ]
  },
  {
   "cell_type": "markdown",
   "metadata": {},
   "source": []
  },
  {
   "cell_type": "markdown",
   "metadata": {},
   "source": [
    "## Distribution of ROI\n",
    "### 1) In case of a ROI function uniformly random between (0,1)"
   ]
  },
  {
   "cell_type": "code",
   "execution_count": null,
   "metadata": {},
   "outputs": [],
   "source": [
    "random_dist(random_ROI)"
   ]
  },
  {
   "cell_type": "markdown",
   "metadata": {},
   "source": [
    "### 2. In case of color based choice ROI evaluation"
   ]
  },
  {
   "cell_type": "code",
   "execution_count": null,
   "metadata": {},
   "outputs": [],
   "source": [
    "color_dist(color_ROI)"
   ]
  },
  {
   "cell_type": "markdown",
   "metadata": {},
   "source": [
    "## Monte Carlo simulations\n",
    "Now we provided a sample of a random game but we head towards the analysis of a large simulation that could eventually provide us some interesting and relevant results.  \n",
    "It's possible to save the charts as images in the appropriate folder rather than print them to screen "
   ]
  },
  {
   "cell_type": "code",
   "execution_count": null,
   "metadata": {},
   "outputs": [],
   "source": [
    "%reload_ext autoreload\n",
    "\n",
    "from montecarlo import montecarlo_run as mc\n",
    "from data_analysis import analiser"
   ]
  },
  {
   "cell_type": "markdown",
   "metadata": {},
   "source": [
    "### 1) In case of a ROI function uniformly random between (0,1)"
   ]
  },
  {
   "cell_type": "markdown",
   "metadata": {},
   "source": [
    "For the analysis of a specific configuration"
   ]
  },
  {
   "cell_type": "code",
   "execution_count": null,
   "metadata": {},
   "outputs": [],
   "source": [
    "# MONTECARLO SIMULATION\n",
    "\n",
    "num_sim = 20000\n",
    "num_players = 4\n",
    "save_to_folder = True\n",
    "\n",
    "rn_datapack = mc(num_sim, num_players, \"random\")\n",
    "\n",
    "# DATA ANALYSIS\n",
    "\n",
    "rn_analised = analiser(num_sim, num_players, rn_datapack, \"random\", save_to_folder)\n",
    "if save_to_folder:\n",
    "    rn_analised.complete_analysis()"
   ]
  },
  {
   "cell_type": "markdown",
   "metadata": {},
   "source": [
    "For the complete analysis of the phenomenon, with the number of players that changes (from 1 to 8)"
   ]
  },
  {
   "cell_type": "code",
   "execution_count": null,
   "metadata": {},
   "outputs": [],
   "source": [
    "\n",
    "for n_pl in range(2, 9):\n",
    "    print(f\"----------------------------------------------------------\\nNumber of players: {n_pl}\\n\")\n",
    "    rn_datapack = mc(num_sim, n_pl, \"random\")\n",
    "    rn_analised = analiser(num_sim, n_pl, rn_datapack, \"random\", save_to_folder, single=False)\n",
    "    rn_analised.complete_analysis()\n",
    "\n",
    "    \n",
    "\n",
    "print(\"----------------------------------------------------------\\n\")\n",
    "print(\"Montecarlo simulation and data analysis completed.\")"
   ]
  },
  {
   "cell_type": "markdown",
   "metadata": {},
   "source": [
    "### 2. In case of color based choice ROI evaluation"
   ]
  },
  {
   "cell_type": "markdown",
   "metadata": {},
   "source": [
    "For the analysis of a specific configuration"
   ]
  },
  {
   "cell_type": "code",
   "execution_count": null,
   "metadata": {},
   "outputs": [],
   "source": [
    "# MONTECARLO SIMULATION\n",
    "\n",
    "rn_datapack = mc(num_sim, num_players, \"color\")\n",
    "\n",
    "# DATA ANALYSIS\n",
    "\n",
    "rn_analised = analiser(num_sim, num_players, rn_datapack, \"color\", save_to_folder)\n",
    "if save_to_folder:\n",
    "    rn_analised.complete_analysis()"
   ]
  },
  {
   "cell_type": "markdown",
   "metadata": {},
   "source": [
    "For the complete analysis of the phenomenon, with the number of players that changes (from 1 to 8)"
   ]
  },
  {
   "cell_type": "code",
   "execution_count": null,
   "metadata": {},
   "outputs": [],
   "source": [
    "\n",
    "for n_pl in range(2, 9):\n",
    "    print(f\"----------------------------------------------------------\\nNumber of players: {n_pl}\\n\")\n",
    "    rn_datapack = mc(num_sim, n_pl, \"color\")\n",
    "    rn_analised = analiser(num_sim, n_pl, rn_datapack, \"color\", save_to_folder, single=False)\n",
    "    rn_analised.complete_analysis()\n",
    "\n",
    "print(\"----------------------------------------------------------\\n\")\n",
    "print(\"Montecarlo simulation and data analysis completed.\")"
   ]
  },
  {
   "cell_type": "code",
   "execution_count": null,
   "metadata": {},
   "outputs": [],
   "source": [
    "print(\"END of SIMULATIONS\")"
   ]
  }
 ],
 "metadata": {
  "kernelspec": {
   "display_name": "Python 3",
   "language": "python",
   "name": "python3"
  },
  "language_info": {
   "codemirror_mode": {
    "name": "ipython",
    "version": 3
   },
   "file_extension": ".py",
   "mimetype": "text/x-python",
   "name": "python",
   "nbconvert_exporter": "python",
   "pygments_lexer": "ipython3",
   "version": "3.13.3"
  }
 },
 "nbformat": 4,
 "nbformat_minor": 2
}
